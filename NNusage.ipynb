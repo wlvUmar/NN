{
 "cells": [
  {
   "cell_type": "code",
   "execution_count": 1,
   "id": "ff2941f2-fd96-44dc-80bc-fc78ea4401bd",
   "metadata": {},
   "outputs": [],
   "source": [
    "import pandas as pd\n",
    "import numpy as np"
   ]
  },
  {
   "cell_type": "code",
   "execution_count": 2,
   "id": "0ac9a083-c675-467e-ab75-1a8de88e1765",
   "metadata": {},
   "outputs": [
    {
     "data": {
      "text/html": [
       "<div>\n",
       "<style scoped>\n",
       "    .dataframe tbody tr th:only-of-type {\n",
       "        vertical-align: middle;\n",
       "    }\n",
       "\n",
       "    .dataframe tbody tr th {\n",
       "        vertical-align: top;\n",
       "    }\n",
       "\n",
       "    .dataframe thead th {\n",
       "        text-align: right;\n",
       "    }\n",
       "</style>\n",
       "<table border=\"1\" class=\"dataframe\">\n",
       "  <thead>\n",
       "    <tr style=\"text-align: right;\">\n",
       "      <th></th>\n",
       "      <th>age</th>\n",
       "      <th>gender</th>\n",
       "      <th>occupation</th>\n",
       "      <th>education_level</th>\n",
       "      <th>marital_status</th>\n",
       "      <th>income</th>\n",
       "      <th>credit_score</th>\n",
       "      <th>loan_status</th>\n",
       "    </tr>\n",
       "  </thead>\n",
       "  <tbody>\n",
       "    <tr>\n",
       "      <th>0</th>\n",
       "      <td>32</td>\n",
       "      <td>Male</td>\n",
       "      <td>Engineer</td>\n",
       "      <td>Bachelor's</td>\n",
       "      <td>Married</td>\n",
       "      <td>85000</td>\n",
       "      <td>720</td>\n",
       "      <td>Approved</td>\n",
       "    </tr>\n",
       "    <tr>\n",
       "      <th>1</th>\n",
       "      <td>45</td>\n",
       "      <td>Female</td>\n",
       "      <td>Teacher</td>\n",
       "      <td>Master's</td>\n",
       "      <td>Single</td>\n",
       "      <td>62000</td>\n",
       "      <td>680</td>\n",
       "      <td>Approved</td>\n",
       "    </tr>\n",
       "    <tr>\n",
       "      <th>2</th>\n",
       "      <td>28</td>\n",
       "      <td>Male</td>\n",
       "      <td>Student</td>\n",
       "      <td>High School</td>\n",
       "      <td>Single</td>\n",
       "      <td>25000</td>\n",
       "      <td>590</td>\n",
       "      <td>Denied</td>\n",
       "    </tr>\n",
       "    <tr>\n",
       "      <th>3</th>\n",
       "      <td>51</td>\n",
       "      <td>Female</td>\n",
       "      <td>Manager</td>\n",
       "      <td>Bachelor's</td>\n",
       "      <td>Married</td>\n",
       "      <td>105000</td>\n",
       "      <td>780</td>\n",
       "      <td>Approved</td>\n",
       "    </tr>\n",
       "    <tr>\n",
       "      <th>4</th>\n",
       "      <td>36</td>\n",
       "      <td>Male</td>\n",
       "      <td>Accountant</td>\n",
       "      <td>Bachelor's</td>\n",
       "      <td>Married</td>\n",
       "      <td>75000</td>\n",
       "      <td>710</td>\n",
       "      <td>Approved</td>\n",
       "    </tr>\n",
       "  </tbody>\n",
       "</table>\n",
       "</div>"
      ],
      "text/plain": [
       "   age  gender  occupation education_level marital_status  income  \\\n",
       "0   32    Male    Engineer      Bachelor's        Married   85000   \n",
       "1   45  Female     Teacher        Master's         Single   62000   \n",
       "2   28    Male     Student     High School         Single   25000   \n",
       "3   51  Female     Manager      Bachelor's        Married  105000   \n",
       "4   36    Male  Accountant      Bachelor's        Married   75000   \n",
       "\n",
       "   credit_score loan_status  \n",
       "0           720    Approved  \n",
       "1           680    Approved  \n",
       "2           590      Denied  \n",
       "3           780    Approved  \n",
       "4           710    Approved  "
      ]
     },
     "execution_count": 2,
     "metadata": {},
     "output_type": "execute_result"
    }
   ],
   "source": [
    "df = pd.read_csv(\"loan.csv\")\n",
    "df.head()"
   ]
  },
  {
   "cell_type": "code",
   "execution_count": 3,
   "id": "c21a1959-146f-426e-b5ca-0e9a644589b9",
   "metadata": {},
   "outputs": [],
   "source": [
    "\n",
    "from sklearn.preprocessing import LabelEncoder, MinMaxScaler\n",
    "\n",
    "cat_cols = ['gender', 'occupation', 'education_level', 'marital_status', 'loan_status']\n",
    "encoders = {col: LabelEncoder() for col in cat_cols}\n",
    "for col in cat_cols:\n",
    "    df[col] = encoders[col].fit_transform(df[col])\n",
    "\n",
    "scaler = MinMaxScaler()\n",
    "df[['age', 'income', 'credit_score']] = scaler.fit_transform(df[['age', 'income', 'credit_score']])\n",
    "\n",
    "X = df.drop('loan_status', axis=1).values\n",
    "y = df['loan_status'].values\n"
   ]
  },
  {
   "cell_type": "code",
   "execution_count": 14,
   "id": "2a402733-1790-48e9-a444-4ed9fdbdca71",
   "metadata": {},
   "outputs": [],
   "source": [
    "from sklearn.model_selection import train_test_split\n",
    "X_train, X_test, y_train, y_test = train_test_split(X, y, test_size=0.2, random_state=42)"
   ]
  },
  {
   "cell_type": "code",
   "execution_count": 15,
   "id": "c9c9a468-5617-426c-b2df-289c6ee34cb3",
   "metadata": {},
   "outputs": [
    {
     "data": {
      "text/plain": [
       "array([0, 0, 0, 0, 0, 0, 0, 0, 0, 0, 0, 0, 1, 1, 0, 0, 0, 1, 0, 0, 0, 1,\n",
       "       0, 0, 1, 0, 1, 0, 0, 0, 1, 1, 0, 1, 0, 1, 0, 0, 0, 0, 0, 0, 1, 0,\n",
       "       0, 0, 1, 0])"
      ]
     },
     "execution_count": 15,
     "metadata": {},
     "output_type": "execute_result"
    }
   ],
   "source": [
    "y_train"
   ]
  },
  {
   "cell_type": "code",
   "execution_count": 16,
   "id": "726f2768-325b-4798-87be-7d2a1634c0b3",
   "metadata": {},
   "outputs": [
    {
     "name": "stdout",
     "output_type": "stream",
     "text": [
      "Epoch 0/1000, Loss: 0.5953718334698245\n",
      "Epoch 100/1000, Loss: 0.10883520521887095\n",
      "Epoch 200/1000, Loss: 0.10169195738846544\n",
      "Epoch 300/1000, Loss: 0.06256348100063115\n",
      "Epoch 400/1000, Loss: 0.042929863381654824\n",
      "Epoch 500/1000, Loss: 0.036297469124702386\n",
      "Epoch 600/1000, Loss: 0.02601438063308853\n",
      "Epoch 700/1000, Loss: 0.02750581672692472\n",
      "Epoch 800/1000, Loss: 0.019424116018583883\n",
      "Epoch 900/1000, Loss: 0.016443460552819793\n"
     ]
    }
   ],
   "source": [
    "from NN import MyNN\n",
    "nn = MyNN(layer_sizes=[7, 8, 1], learning_rate=0.05, task='c', activation='sigmoid')\n",
    "nn.train(X_train, y_train, epochs=1000)"
   ]
  },
  {
   "cell_type": "code",
   "execution_count": 19,
   "id": "1be87a8b-2505-4404-9809-b4b369650f26",
   "metadata": {},
   "outputs": [
    {
     "name": "stdout",
     "output_type": "stream",
     "text": [
      "Test Accuracy: 92.31%\n"
     ]
    }
   ],
   "source": [
    "correct = 0\n",
    "for x, label in zip(X_test, y_test):\n",
    "    pred = nn.predict(x)\n",
    "    pred_label = 1 if pred >= 0.5 else 0\n",
    "    if pred_label == label:\n",
    "        correct += 1\n",
    "\n",
    "accuracy = correct / len(X_test)\n",
    "print(f\"Test Accuracy: {accuracy * 100:.2f}%\")"
   ]
  },
  {
   "cell_type": "code",
   "execution_count": 20,
   "id": "926813eb-046e-4b11-b7b2-a476b43a447a",
   "metadata": {},
   "outputs": [
    {
     "name": "stdout",
     "output_type": "stream",
     "text": [
      "Predicted Loan Status: [[9.47541273e-06]]\n"
     ]
    }
   ],
   "source": [
    "sample_data = {\n",
    "    'age': 29,\n",
    "    'gender': 'Female',\n",
    "    'occupation': 'Teacher',\n",
    "    'education_level': \"Master's\",\n",
    "    'marital_status': 'Single',\n",
    "    'income': 55000,\n",
    "    'credit_score': 680\n",
    "}\n",
    "\n",
    "# Convert categorical values to numerical equivalents based on encoding you used earlier (e.g., LabelEncoder)\n",
    "# Assuming we use the same label encoding from before (Gender, Occupation, etc.)\n",
    "encoded_data = {\n",
    "    'age': sample_data['age'],\n",
    "    'gender': 0,  # Female encoded as 0\n",
    "    'occupation': 1,  # Teacher encoded as 1 (use the same encoding from your preprocessing)\n",
    "    'education_level': 2,  # Master's encoded as 2\n",
    "    'marital_status': 0,  # Single encoded as 0\n",
    "    'income': sample_data['income'],\n",
    "    'credit_score': sample_data['credit_score']\n",
    "}\n",
    "\n",
    "# Convert to numpy array and reshape for input into the model\n",
    "sample_input = np.array(list(encoded_data.values())).reshape(1, -1)\n",
    "\n",
    "# Pass the sample input to the model\n",
    "prediction = nn.predict(sample_input)  # Assuming you have a `predict` method in your NN\n",
    "\n",
    "print(\"Predicted Loan Status:\", prediction)"
   ]
  },
  {
   "cell_type": "code",
   "execution_count": null,
   "id": "f7c90618-e264-4337-8b3b-d61ac339b7e6",
   "metadata": {},
   "outputs": [],
   "source": []
  }
 ],
 "metadata": {
  "kernelspec": {
   "display_name": "Python 3 (ipykernel)",
   "language": "python",
   "name": "python3"
  },
  "language_info": {
   "codemirror_mode": {
    "name": "ipython",
    "version": 3
   },
   "file_extension": ".py",
   "mimetype": "text/x-python",
   "name": "python",
   "nbconvert_exporter": "python",
   "pygments_lexer": "ipython3",
   "version": "3.12.2"
  }
 },
 "nbformat": 4,
 "nbformat_minor": 5
}
